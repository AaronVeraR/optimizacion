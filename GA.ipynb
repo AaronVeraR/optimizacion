{
  "nbformat": 4,
  "nbformat_minor": 0,
  "metadata": {
    "colab": {
      "name": "GA.ipynb",
      "provenance": [],
      "include_colab_link": true
    },
    "kernelspec": {
      "name": "python3",
      "display_name": "Python 3"
    }
  },
  "cells": [
    {
      "cell_type": "markdown",
      "metadata": {
        "id": "view-in-github",
        "colab_type": "text"
      },
      "source": [
        "<a href=\"https://colab.research.google.com/github/mleyvaz/optimizacion/blob/main/GA.ipynb\" target=\"_parent\"><img src=\"https://colab.research.google.com/assets/colab-badge.svg\" alt=\"Open In Colab\"/></a>"
      ]
    },
    {
      "cell_type": "code",
      "metadata": {
        "colab": {
          "base_uri": "https://localhost:8080/",
          "height": 88
        },
        "id": "vTulW4_6b72J",
        "outputId": "99f95733-2639-4e5b-beb0-b1b35963cf2d"
      },
      "source": [
        "\"\"\"\r\n",
        "La función de fitness a optimizar es la siguiente:\r\n",
        "= $ 600,000- ((F + V) + $ 350,000)\r\n",
        "Las variables F y V están vinculadas a nuestro individuo GA y para este problema representa la Cantidad (número de artículos a producir). 600.000 son ingresos totales y 350.000 son gastos adicionales.\r\n",
        "Ecuación F = (20,000 / Cantidad) * $ 6000 y representa la tarifa fija por una corrida de producción. Cada corrida nos cuesta 6.000 dólares.\r\n",
        "Ecuación V = (Cantidad * $ 6) / 2 y representa la cantidad de dinero que cuesta una producción en particular.\"\"\""
      ],
      "execution_count": null,
      "outputs": [
        {
          "output_type": "execute_result",
          "data": {
            "application/vnd.google.colaboratory.intrinsic+json": {
              "type": "string"
            },
            "text/plain": [
              "'\\nLa función de fitness a optimizar es la siguiente:\\n= $ 600,000- ((F + V) + $ 350,000)\\nLas variables F y V están vinculadas a nuestro individuo GA y para este problema representa la Cantidad (número de artículos a producir). 600.000 son ingresos totales y 350.000 son gastos adicionales.\\nEcuación F = (20,000 / Cantidad) * $ 6000 y representa la tarifa fija por una corrida de producción. Cada corrida nos cuesta 6.000 dólares.\\nEcuación V = (Cantidad * $ 6) / 2 y representa la cantidad de dinero que cuesta una producción en particular.'"
            ]
          },
          "metadata": {
            "tags": []
          },
          "execution_count": 127
        }
      ]
    },
    {
      "cell_type": "code",
      "metadata": {
        "colab": {
          "base_uri": "https://localhost:8080/"
        },
        "id": "z7jF4kA0ZvjL",
        "outputId": "e2082434-b7a0-4a55-d2e1-ae71312f1e34"
      },
      "source": [
        "!pip  install deap"
      ],
      "execution_count": null,
      "outputs": [
        {
          "output_type": "stream",
          "text": [
            "Requirement already satisfied: deap in /usr/local/lib/python3.6/dist-packages (1.3.1)\n",
            "Requirement already satisfied: numpy in /usr/local/lib/python3.6/dist-packages (from deap) (1.19.5)\n"
          ],
          "name": "stdout"
        }
      ]
    },
    {
      "cell_type": "code",
      "metadata": {
        "id": "n1hjiM0kZtRv"
      },
      "source": [
        "import random\r\n",
        "import numpy as np\r\n",
        "\r\n",
        "from deap import base, creator, tools"
      ],
      "execution_count": null,
      "outputs": []
    },
    {
      "cell_type": "markdown",
      "metadata": {
        "id": "QZ9nMAl1ZLcx"
      },
      "source": [
        "# Fitness"
      ]
    },
    {
      "cell_type": "code",
      "metadata": {
        "id": "kXmvxP9oZJOW"
      },
      "source": [
        "def EOQ(individual):\r\n",
        "    def to_int(b):\r\n",
        "        return int(b, 2)\r\n",
        "    \r\n",
        "    i = to_int(\r\n",
        "        ''.join((str(xi) for xi in individual)))\r\n",
        "    \r\n",
        "    if i == 0:\r\n",
        "        return (-1)*350000\r\n",
        "    \r\n",
        "    f = round((20000 / i) * 6000, 0)\r\n",
        "    v = (i * 6) / 2\r\n",
        "    \r\n",
        "    return 600000 - ( (f + v) + (350000) ),"
      ],
      "execution_count": null,
      "outputs": []
    },
    {
      "cell_type": "code",
      "metadata": {
        "colab": {
          "base_uri": "https://localhost:8080/"
        },
        "id": "Pxf1ggtvZdMy",
        "outputId": "ed0c245e-0859-4862-cb0c-92d27732cf07"
      },
      "source": [
        "creator.create(\"FitnessMax\", base.Fitness, weights=(1.0,))\r\n",
        "creator.create(\"Individual\", list, fitness=creator.FitnessMax)"
      ],
      "execution_count": null,
      "outputs": [
        {
          "output_type": "stream",
          "text": [
            "/usr/local/lib/python3.6/dist-packages/deap/creator.py:141: RuntimeWarning: A class named 'FitnessMax' has already been created and it will be overwritten. Consider deleting previous creation of that class or rename it.\n",
            "  RuntimeWarning)\n",
            "/usr/local/lib/python3.6/dist-packages/deap/creator.py:141: RuntimeWarning: A class named 'Individual' has already been created and it will be overwritten. Consider deleting previous creation of that class or rename it.\n",
            "  RuntimeWarning)\n"
          ],
          "name": "stderr"
        }
      ]
    },
    {
      "cell_type": "code",
      "metadata": {
        "id": "oy8hIh3vaMfW"
      },
      "source": [
        "tbx = base.Toolbox()"
      ],
      "execution_count": null,
      "outputs": []
    },
    {
      "cell_type": "code",
      "metadata": {
        "id": "1CtXMnvKaQKx"
      },
      "source": [
        "INDIVIDUAL_SIZE = 30\r\n",
        "tbx.register(\"attr_int\", random.randint, 0, 1)\r\n",
        "tbx.register(\"individual\", \r\n",
        "             tools.initRepeat, \r\n",
        "             creator.Individual,\r\n",
        "             tbx.attr_int, \r\n",
        "             n=INDIVIDUAL_SIZE)\r\n",
        "\r\n",
        "tbx.register(\"population\", tools.initRepeat, list, tbx.individual)"
      ],
      "execution_count": null,
      "outputs": []
    },
    {
      "cell_type": "code",
      "metadata": {
        "id": "AsrqENUvaanE"
      },
      "source": [
        "tbx.register(\"evaluate\", EOQ)\r\n",
        "\r\n",
        "tbx.register(\"mate\", tools.cxOnePoint)\r\n",
        "tbx.register(\"mutate\", tools.mutFlipBit, indpb=0.01)\r\n",
        "tbx.register(\"select\", tools.selTournament, tournsize=5)"
      ],
      "execution_count": null,
      "outputs": []
    },
    {
      "cell_type": "code",
      "metadata": {
        "id": "DtFabMpNaiyC"
      },
      "source": [
        "def set_fitness(population):\r\n",
        "    fitnesses = [ \r\n",
        "        (individual, tbx.evaluate(individual)) \r\n",
        "        for individual in population \r\n",
        "    ]\r\n",
        "\r\n",
        "    for individual, fitness in fitnesses:\r\n",
        "        individual.fitness.values = fitness\r\n",
        "        \r\n",
        "def pull_stats(population, iteration=1):\r\n",
        "    fitnesses = [ individual.fitness.values[0] for individual in population ]\r\n",
        "    return {\r\n",
        "        'i': iteration,\r\n",
        "        'mu': np.mean(fitnesses),\r\n",
        "        'std': np.std(fitnesses),\r\n",
        "        'max': np.max(fitnesses),\r\n",
        "        'min': np.min(fitnesses)\r\n",
        "    }"
      ],
      "execution_count": null,
      "outputs": []
    },
    {
      "cell_type": "code",
      "metadata": {
        "id": "iYuKzIJvaoO1"
      },
      "source": [
        "## create random population,\r\n",
        "population = tbx.population(n=100)\r\n",
        "\r\n",
        "## set fitness,\r\n",
        "set_fitness(population)"
      ],
      "execution_count": null,
      "outputs": []
    },
    {
      "cell_type": "code",
      "metadata": {
        "id": "XrH3lqcZaphJ",
        "colab": {
          "base_uri": "https://localhost:8080/"
        },
        "outputId": "b8453aee-4066-4836-aee3-b2d3dd00bb44"
      },
      "source": [
        "## quick look at the initial population,\r\n",
        "population[:5]"
      ],
      "execution_count": null,
      "outputs": [
        {
          "output_type": "execute_result",
          "data": {
            "text/plain": [
              "[[1,\n",
              "  1,\n",
              "  1,\n",
              "  1,\n",
              "  0,\n",
              "  0,\n",
              "  1,\n",
              "  1,\n",
              "  1,\n",
              "  0,\n",
              "  1,\n",
              "  0,\n",
              "  0,\n",
              "  0,\n",
              "  0,\n",
              "  0,\n",
              "  0,\n",
              "  1,\n",
              "  1,\n",
              "  1,\n",
              "  1,\n",
              "  1,\n",
              "  1,\n",
              "  1,\n",
              "  1,\n",
              "  1,\n",
              "  1,\n",
              "  1,\n",
              "  0,\n",
              "  0],\n",
              " [1,\n",
              "  0,\n",
              "  0,\n",
              "  1,\n",
              "  1,\n",
              "  1,\n",
              "  0,\n",
              "  0,\n",
              "  1,\n",
              "  1,\n",
              "  0,\n",
              "  1,\n",
              "  1,\n",
              "  0,\n",
              "  1,\n",
              "  0,\n",
              "  0,\n",
              "  1,\n",
              "  0,\n",
              "  0,\n",
              "  0,\n",
              "  0,\n",
              "  0,\n",
              "  0,\n",
              "  0,\n",
              "  1,\n",
              "  1,\n",
              "  0,\n",
              "  1,\n",
              "  1],\n",
              " [1,\n",
              "  0,\n",
              "  1,\n",
              "  1,\n",
              "  0,\n",
              "  1,\n",
              "  1,\n",
              "  0,\n",
              "  1,\n",
              "  1,\n",
              "  1,\n",
              "  0,\n",
              "  1,\n",
              "  0,\n",
              "  0,\n",
              "  0,\n",
              "  1,\n",
              "  0,\n",
              "  1,\n",
              "  1,\n",
              "  1,\n",
              "  1,\n",
              "  1,\n",
              "  1,\n",
              "  1,\n",
              "  1,\n",
              "  1,\n",
              "  0,\n",
              "  0,\n",
              "  1],\n",
              " [0,\n",
              "  1,\n",
              "  0,\n",
              "  0,\n",
              "  1,\n",
              "  1,\n",
              "  1,\n",
              "  1,\n",
              "  0,\n",
              "  0,\n",
              "  0,\n",
              "  1,\n",
              "  1,\n",
              "  0,\n",
              "  1,\n",
              "  0,\n",
              "  0,\n",
              "  0,\n",
              "  1,\n",
              "  0,\n",
              "  1,\n",
              "  0,\n",
              "  0,\n",
              "  1,\n",
              "  0,\n",
              "  0,\n",
              "  0,\n",
              "  1,\n",
              "  0,\n",
              "  1],\n",
              " [0,\n",
              "  0,\n",
              "  1,\n",
              "  0,\n",
              "  1,\n",
              "  1,\n",
              "  0,\n",
              "  1,\n",
              "  1,\n",
              "  1,\n",
              "  0,\n",
              "  1,\n",
              "  0,\n",
              "  1,\n",
              "  0,\n",
              "  1,\n",
              "  1,\n",
              "  1,\n",
              "  1,\n",
              "  0,\n",
              "  1,\n",
              "  1,\n",
              "  1,\n",
              "  1,\n",
              "  0,\n",
              "  1,\n",
              "  0,\n",
              "  0,\n",
              "  0,\n",
              "  0]]"
            ]
          },
          "metadata": {
            "tags": []
          },
          "execution_count": 137
        }
      ]
    },
    {
      "cell_type": "code",
      "metadata": {
        "id": "f2wZsE-UatGQ"
      },
      "source": [
        "## globals,\r\n",
        "stats = []"
      ],
      "execution_count": null,
      "outputs": []
    },
    {
      "cell_type": "code",
      "metadata": {
        "id": "DYSXiVDua11O"
      },
      "source": [
        "iteration = 1\r\n",
        "while iteration < 10:\r\n",
        "    \r\n",
        "    current_population = list(map(tbx.clone, population))\r\n",
        "    \r\n",
        "    offspring = []\r\n",
        "    for _ in range(10):\r\n",
        "        i1, i2 = np.random.choice(range(len(population)), size=2, replace=False)\r\n",
        "\r\n",
        "        offspring1, offspring2 = \\\r\n",
        "            tbx.mate(population[i1], population[i2])\r\n",
        "\r\n",
        "        offspring.append(tbx.mutate(offspring1)[0])\r\n",
        "        offspring.append(tbx.mutate(offspring2)[0])  \r\n",
        "    \r\n",
        "    for child in offspring:\r\n",
        "        current_population.append(child)\r\n",
        "\r\n",
        "    ## reset fitness,\r\n",
        "    set_fitness(current_population)\r\n",
        "\r\n",
        "    population[:] = tbx.select(current_population, len(population))\r\n",
        "    \r\n",
        "    ## set fitness on individuals in the population,\r\n",
        "    stats.append(\r\n",
        "        pull_stats(population, iteration))\r\n",
        "    \r\n",
        "    iteration += 1"
      ],
      "execution_count": null,
      "outputs": []
    },
    {
      "cell_type": "code",
      "metadata": {
        "id": "XHX0_YV6a26g"
      },
      "source": [
        "import seaborn as sns\r\n",
        "import matplotlib.pyplot as plt\r\n",
        "\r\n",
        "sns.set()"
      ],
      "execution_count": null,
      "outputs": []
    },
    {
      "cell_type": "code",
      "metadata": {
        "id": "x0KF4Z4Xa9X6",
        "colab": {
          "base_uri": "https://localhost:8080/",
          "height": 301
        },
        "outputId": "66b05689-3a45-46ab-e5cd-62ddca55feda"
      },
      "source": [
        "\r\n",
        "_ = plt.scatter(range(1, len(stats)+1), [ s['mu'] for s in stats ], marker='.')\r\n",
        "\r\n",
        "_ = plt.title('average fitness per iteration')\r\n",
        "_ = plt.xlabel('iterations')\r\n",
        "_ = plt.ylabel('fitness')\r\n",
        "\r\n",
        "plt.show()"
      ],
      "execution_count": null,
      "outputs": [
        {
          "output_type": "display_data",
          "data": {
            "image/png": "[encoded data removed]",
            "text/plain": [
              "<Figure size 432x288 with 1 Axes>"
            ]
          },
          "metadata": {
            "tags": []
          }
        }
      ]
    },
    {
      "cell_type": "code",
      "metadata": {
        "id": "GqtUndsObDag",
        "colab": {
          "base_uri": "https://localhost:8080/"
        },
        "outputId": "b93a8a71-ccf9-4e48-d408-47fe3d4994db"
      },
      "source": [
        "def to_int(b):\r\n",
        "    return int(b, 2)\r\n",
        "    \r\n",
        "sorted([ (i, to_int(''.join((str(xi) for xi in individual)))) for i, individual in enumerate(population) ][:10], key=lambda x: x[1], reverse=False)"
      ],
      "execution_count": null,
      "outputs": [
        {
          "output_type": "execute_result",
          "data": {
            "text/plain": [
              "[(5, 19185),\n",
              " (0, 88817),\n",
              " (1, 88817),\n",
              " (2, 88817),\n",
              " (3, 88817),\n",
              " (4, 88817),\n",
              " (6, 88817),\n",
              " (8, 88817),\n",
              " (9, 88817),\n",
              " (7, 88825)]"
            ]
          },
          "metadata": {
            "tags": []
          },
          "execution_count": 142
        }
      ]
    }
  ]
}